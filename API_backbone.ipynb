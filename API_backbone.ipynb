{
 "cells": [
  {
   "cell_type": "code",
   "execution_count": 1,
   "metadata": {},
   "outputs": [],
   "source": [
    "import pandas as pd\n",
    "import numpy as np\n",
    "import nltk\n",
    "import warnings\n",
    "warnings.filterwarnings('ignore')"
   ]
  },
  {
   "cell_type": "code",
   "execution_count": 2,
   "metadata": {},
   "outputs": [],
   "source": [
    "# read for backend work\n",
    "df = pd.read_csv(r\"C:\\Users\\dsk02\\Desktop\\python_projects\\nn_recipes\\cleaned_data.csv\")\n",
    "df = df.drop(columns=['Unnamed: 0'])"
   ]
  },
  {
   "cell_type": "code",
   "execution_count": 3,
   "metadata": {},
   "outputs": [
    {
     "data": {
      "text/html": [
       "<div>\n",
       "<style scoped>\n",
       "    .dataframe tbody tr th:only-of-type {\n",
       "        vertical-align: middle;\n",
       "    }\n",
       "\n",
       "    .dataframe tbody tr th {\n",
       "        vertical-align: top;\n",
       "    }\n",
       "\n",
       "    .dataframe thead th {\n",
       "        text-align: right;\n",
       "    }\n",
       "</style>\n",
       "<table border=\"1\" class=\"dataframe\">\n",
       "  <thead>\n",
       "    <tr style=\"text-align: right;\">\n",
       "      <th></th>\n",
       "      <th>Recipe</th>\n",
       "      <th>Ingredients</th>\n",
       "    </tr>\n",
       "  </thead>\n",
       "  <tbody>\n",
       "    <tr>\n",
       "      <th>0</th>\n",
       "      <td>pan fried chicken goujons</td>\n",
       "      <td>flour,cocoa,powder,ground,pepper,chicken,fille...</td>\n",
       "    </tr>\n",
       "    <tr>\n",
       "      <th>1</th>\n",
       "      <td>vegetable soup with couscous</td>\n",
       "      <td>green,pepper,medium,tomato,onion,carrot,potato...</td>\n",
       "    </tr>\n",
       "    <tr>\n",
       "      <th>2</th>\n",
       "      <td>cheesy leek and mustard soup</td>\n",
       "      <td>leek,onion,medium,potato,carrot,butter,olive,o...</td>\n",
       "    </tr>\n",
       "    <tr>\n",
       "      <th>3</th>\n",
       "      <td>goalkeeper s steak and ale pie</td>\n",
       "      <td>butter,steak,carrot,swede,potato,onion,bitter,...</td>\n",
       "    </tr>\n",
       "    <tr>\n",
       "      <th>4</th>\n",
       "      <td>christmas stollen</td>\n",
       "      <td>active,yeast,milk,egg,sugar,salt,butter,bread,...</td>\n",
       "    </tr>\n",
       "  </tbody>\n",
       "</table>\n",
       "</div>"
      ],
      "text/plain": [
       "                           Recipe  \\\n",
       "0       pan fried chicken goujons   \n",
       "1    vegetable soup with couscous   \n",
       "2    cheesy leek and mustard soup   \n",
       "3  goalkeeper s steak and ale pie   \n",
       "4               christmas stollen   \n",
       "\n",
       "                                         Ingredients  \n",
       "0  flour,cocoa,powder,ground,pepper,chicken,fille...  \n",
       "1  green,pepper,medium,tomato,onion,carrot,potato...  \n",
       "2  leek,onion,medium,potato,carrot,butter,olive,o...  \n",
       "3  butter,steak,carrot,swede,potato,onion,bitter,...  \n",
       "4  active,yeast,milk,egg,sugar,salt,butter,bread,...  "
      ]
     },
     "execution_count": 3,
     "metadata": {},
     "output_type": "execute_result"
    }
   ],
   "source": [
    "df.head()"
   ]
  },
  {
   "cell_type": "markdown",
   "metadata": {},
   "source": [
    "###### some ingredients are \"ground\" etc. find a way to remove things that aren't real ingredient or relevant to api\n",
    "###### use ntlk to tag words, only keeping specific tagged words"
   ]
  },
  {
   "cell_type": "code",
   "execution_count": 19,
   "metadata": {},
   "outputs": [],
   "source": [
    "from nltk.stem import WordNetLemmatizer\n",
    "from nltk.tokenize import word_tokenize as WordTokenizer\n",
    "lemma = WordNetLemmatizer()\n",
    "\n",
    "def ntlk_edits(df):\n",
    "    \n",
    "    # temp array\n",
    "    temp = []\n",
    "    \n",
    "    # split each word in the dataframe at the ,\n",
    "    split_words = (df['Ingredients'].split(','))\n",
    "    \n",
    "    for each_word in split_words:\n",
    "        \n",
    "        # lowercase each word\n",
    "        each_word = each_word.lower()\n",
    "        \n",
    "        # not a space or punctuation\n",
    "        if each_word.isalpha():\n",
    "            \n",
    "            #print('this is before lemma {}'.format(each_word))\n",
    "            \n",
    "            # tokenize each word, sometimes pushes to array\n",
    "            #words = WordTokenizer(each_word)\n",
    "            \n",
    "            # check to see if the words got pushed to an array\n",
    "            #if len(words) > 1:\n",
    "                \n",
    "            # ipush to array handle with for\n",
    "            #for word in words:\n",
    "\n",
    "            # lemmatize each word for standard processing\n",
    "            lemm_word = lemma.lemmatize(each_word)\n",
    "            \n",
    "            #print('this is after lemma {}'.format(lemm_word))\n",
    "\n",
    "            # tag each word based on nltks position tagger\n",
    "            check = nltk.pos_tag([lemm_word]) # have to pass as arr -> tuple\n",
    "            \n",
    "            #print('this is after pos_tag {}'.format(check))\n",
    "\n",
    "            # append 'NN' (nouns) words to the temp array after check\n",
    "            if check[0][1] == 'NN': #nested array\n",
    "                temp.append(check[0][0]) #nested array\n",
    "                #print(check[0][1]) check nn       \n",
    "                \n",
    "    return temp"
   ]
  },
  {
   "cell_type": "code",
   "execution_count": 20,
   "metadata": {},
   "outputs": [],
   "source": [
    "df['nltk_tagging'] = df.apply(ntlk_edits, axis=1)"
   ]
  },
  {
   "cell_type": "code",
   "execution_count": 23,
   "metadata": {
    "scrolled": false
   },
   "outputs": [
    {
     "data": {
      "text/plain": [
       "Ingredients       flour,egg,\n",
       "nltk_tagging    [flour, egg]\n",
       "Name: 1337, dtype: object"
      ]
     },
     "execution_count": 23,
     "metadata": {},
     "output_type": "execute_result"
    }
   ],
   "source": [
    "# have cleaned out some of the more uesless words\n",
    "df.loc[1337,['Ingredients','nltk_tagging']]"
   ]
  },
  {
   "cell_type": "code",
   "execution_count": 24,
   "metadata": {},
   "outputs": [
    {
     "data": {
      "text/html": [
       "<div>\n",
       "<style scoped>\n",
       "    .dataframe tbody tr th:only-of-type {\n",
       "        vertical-align: middle;\n",
       "    }\n",
       "\n",
       "    .dataframe tbody tr th {\n",
       "        vertical-align: top;\n",
       "    }\n",
       "\n",
       "    .dataframe thead th {\n",
       "        text-align: right;\n",
       "    }\n",
       "</style>\n",
       "<table border=\"1\" class=\"dataframe\">\n",
       "  <thead>\n",
       "    <tr style=\"text-align: right;\">\n",
       "      <th></th>\n",
       "      <th>Recipe</th>\n",
       "      <th>Ingredients</th>\n",
       "      <th>nltk_tagging</th>\n",
       "    </tr>\n",
       "  </thead>\n",
       "  <tbody>\n",
       "    <tr>\n",
       "      <th>0</th>\n",
       "      <td>pan fried chicken goujons</td>\n",
       "      <td>flour,cocoa,powder,ground,pepper,chicken,fille...</td>\n",
       "      <td>[flour, cocoa, powder, ground, pepper, chicken...</td>\n",
       "    </tr>\n",
       "    <tr>\n",
       "      <th>1</th>\n",
       "      <td>vegetable soup with couscous</td>\n",
       "      <td>green,pepper,medium,tomato,onion,carrot,potato...</td>\n",
       "      <td>[pepper, medium, tomato, onion, carrot, potato...</td>\n",
       "    </tr>\n",
       "    <tr>\n",
       "      <th>2</th>\n",
       "      <td>cheesy leek and mustard soup</td>\n",
       "      <td>leek,onion,medium,potato,carrot,butter,olive,o...</td>\n",
       "      <td>[leek, onion, medium, potato, carrot, butter, ...</td>\n",
       "    </tr>\n",
       "    <tr>\n",
       "      <th>3</th>\n",
       "      <td>goalkeeper s steak and ale pie</td>\n",
       "      <td>butter,steak,carrot,swede,potato,onion,bitter,...</td>\n",
       "      <td>[butter, steak, carrot, swede, potato, onion, ...</td>\n",
       "    </tr>\n",
       "    <tr>\n",
       "      <th>4</th>\n",
       "      <td>christmas stollen</td>\n",
       "      <td>active,yeast,milk,egg,sugar,salt,butter,bread,...</td>\n",
       "      <td>[yeast, milk, egg, sugar, salt, butter, bread,...</td>\n",
       "    </tr>\n",
       "    <tr>\n",
       "      <th>...</th>\n",
       "      <td>...</td>\n",
       "      <td>...</td>\n",
       "      <td>...</td>\n",
       "    </tr>\n",
       "    <tr>\n",
       "      <th>53856</th>\n",
       "      <td>mediterranean chicken tray bake</td>\n",
       "      <td>pepper,cut,onion,wedge,olive,oil,chicken,garli...</td>\n",
       "      <td>[pepper, cut, onion, wedge, oil, chicken, garl...</td>\n",
       "    </tr>\n",
       "    <tr>\n",
       "      <th>53857</th>\n",
       "      <td>honeycomb</td>\n",
       "      <td>butter,cream,make,sugar,syrup,a,soda,bread,</td>\n",
       "      <td>[butter, cream, sugar, syrup, soda, bread]</td>\n",
       "    </tr>\n",
       "    <tr>\n",
       "      <th>53858</th>\n",
       "      <td>crab and leek pasties</td>\n",
       "      <td>puff,pastry,butter,cream,make,leek,garlic,onio...</td>\n",
       "      <td>[puff, pastry, butter, cream, leek, garlic, on...</td>\n",
       "    </tr>\n",
       "    <tr>\n",
       "      <th>53859</th>\n",
       "      <td>horseradish potato dauphinoise</td>\n",
       "      <td>cream,milk,ingredient,a,garlic,clove,horseradi...</td>\n",
       "      <td>[cream, milk, ingredient, garlic, clove, horse...</td>\n",
       "    </tr>\n",
       "    <tr>\n",
       "      <th>53860</th>\n",
       "      <td>chocolate flapjacks</td>\n",
       "      <td>butter,cream,make,honey,nectar,quantity,granol...</td>\n",
       "      <td>[butter, cream, honey, nectar, quantity, grano...</td>\n",
       "    </tr>\n",
       "  </tbody>\n",
       "</table>\n",
       "<p>53861 rows × 3 columns</p>\n",
       "</div>"
      ],
      "text/plain": [
       "                                Recipe  \\\n",
       "0            pan fried chicken goujons   \n",
       "1         vegetable soup with couscous   \n",
       "2         cheesy leek and mustard soup   \n",
       "3       goalkeeper s steak and ale pie   \n",
       "4                    christmas stollen   \n",
       "...                                ...   \n",
       "53856  mediterranean chicken tray bake   \n",
       "53857                        honeycomb   \n",
       "53858            crab and leek pasties   \n",
       "53859   horseradish potato dauphinoise   \n",
       "53860              chocolate flapjacks   \n",
       "\n",
       "                                             Ingredients  \\\n",
       "0      flour,cocoa,powder,ground,pepper,chicken,fille...   \n",
       "1      green,pepper,medium,tomato,onion,carrot,potato...   \n",
       "2      leek,onion,medium,potato,carrot,butter,olive,o...   \n",
       "3      butter,steak,carrot,swede,potato,onion,bitter,...   \n",
       "4      active,yeast,milk,egg,sugar,salt,butter,bread,...   \n",
       "...                                                  ...   \n",
       "53856  pepper,cut,onion,wedge,olive,oil,chicken,garli...   \n",
       "53857        butter,cream,make,sugar,syrup,a,soda,bread,   \n",
       "53858  puff,pastry,butter,cream,make,leek,garlic,onio...   \n",
       "53859  cream,milk,ingredient,a,garlic,clove,horseradi...   \n",
       "53860  butter,cream,make,honey,nectar,quantity,granol...   \n",
       "\n",
       "                                            nltk_tagging  \n",
       "0      [flour, cocoa, powder, ground, pepper, chicken...  \n",
       "1      [pepper, medium, tomato, onion, carrot, potato...  \n",
       "2      [leek, onion, medium, potato, carrot, butter, ...  \n",
       "3      [butter, steak, carrot, swede, potato, onion, ...  \n",
       "4      [yeast, milk, egg, sugar, salt, butter, bread,...  \n",
       "...                                                  ...  \n",
       "53856  [pepper, cut, onion, wedge, oil, chicken, garl...  \n",
       "53857         [butter, cream, sugar, syrup, soda, bread]  \n",
       "53858  [puff, pastry, butter, cream, leek, garlic, on...  \n",
       "53859  [cream, milk, ingredient, garlic, clove, horse...  \n",
       "53860  [butter, cream, honey, nectar, quantity, grano...  \n",
       "\n",
       "[53861 rows x 3 columns]"
      ]
     },
     "execution_count": 24,
     "metadata": {},
     "output_type": "execute_result"
    }
   ],
   "source": [
    "df"
   ]
  },
  {
   "cell_type": "markdown",
   "metadata": {},
   "source": [
    "##### build dictionary for main backbone, serialize afterwards"
   ]
  },
  {
   "cell_type": "code",
   "execution_count": 92,
   "metadata": {},
   "outputs": [],
   "source": [
    "def dictionary_create(recipes, ingredients):\n",
    "    \n",
    "    # create dictionary\n",
    "    recipe_dict = {}\n",
    "    \n",
    "    print(len(ingredients),len(recipes))\n",
    "    \n",
    "    # ingredients is an array of arrays\n",
    "    for recipe, arr in zip(recipes, ingredients):\n",
    "\n",
    "        # access each value in each array\n",
    "        for each_ingredient in arr: # N^2 :(\n",
    "            \n",
    "            # check if it's in the dictinoary\n",
    "            if each_ingredient not in recipe_dict:\n",
    "                \n",
    "                # if not add a array to hold values\n",
    "                recipe_dict[each_ingredient] = []\n",
    "                # # at each ingredient, push the recipe name into the array\n",
    "                recipe_dict[each_ingredient].append(recipe)\n",
    "            else:  \n",
    "                # at each ingredient, push the recipe name into the array\n",
    "                recipe_dict[each_ingredient].append(recipe)\n",
    "\n",
    "    return recipe_dict\n"
   ]
  },
  {
   "cell_type": "code",
   "execution_count": 94,
   "metadata": {
    "scrolled": true
   },
   "outputs": [
    {
     "name": "stdout",
     "output_type": "stream",
     "text": [
      "53861 53861\n",
      "1092\n"
     ]
    }
   ],
   "source": [
    "# convert series to arrays from df\n",
    "recipes = list(df['Recipe'])\n",
    "ingredients = list(df['nltk_tagging'])\n",
    "\n",
    "my_recipes = dictionary_create(recipes,ingredients)\n",
    "\n",
    "print(len(my_recipes))\n"
   ]
  },
  {
   "cell_type": "code",
   "execution_count": 96,
   "metadata": {
    "scrolled": false
   },
   "outputs": [
    {
     "data": {
      "text/plain": [
       "['pan fried chicken goujons',\n",
       " 'garlic chicken in puff pastry',\n",
       " 'indian masala chicken drumsticks',\n",
       " 'easy quesadillas',\n",
       " 'apple sauce pork chops']"
      ]
     },
     "execution_count": 96,
     "metadata": {},
     "output_type": "execute_result"
    }
   ],
   "source": [
    "# for example, all the recipes we could make with chicken (first 5)\n",
    "my_recipes['chicken'][0:5]"
   ]
  },
  {
   "cell_type": "code",
   "execution_count": 97,
   "metadata": {},
   "outputs": [],
   "source": [
    "# our suggestions will be in the intersections of the arrays\n",
    "# (or intersection of a bunch)\n",
    "# for example\n",
    "# my_recipes['chicken'] ∩ my_recipes['fries'] = chicken and fries!"
   ]
  },
  {
   "cell_type": "code",
   "execution_count": 98,
   "metadata": {},
   "outputs": [],
   "source": [
    "# save my dictionary\n",
    "\n",
    "import pickle\n",
    "\n",
    "with open(r\"C:\\Users\\dsk02\\Desktop\\python_projects\\nn_recipes\\recipes_dict.pickle\", 'wb') as handle:\n",
    "    pickle.dump(my_recipes, handle, protocol=pickle.HIGHEST_PROTOCOL)\n",
    "\n",
    "# opening\n",
    "#with open(r\"C:\\Users\\dsk02\\Desktop\\python_projects\\nn_recipes\\recipes_dict.pickle\", 'rb') as handle:\n",
    "#    b = pickle.load(handle)\n",
    "\n",
    "#print a == b"
   ]
  }
 ],
 "metadata": {
  "kernelspec": {
   "display_name": "Python 3",
   "language": "python",
   "name": "python3"
  },
  "language_info": {
   "codemirror_mode": {
    "name": "ipython",
    "version": 3
   },
   "file_extension": ".py",
   "mimetype": "text/x-python",
   "name": "python",
   "nbconvert_exporter": "python",
   "pygments_lexer": "ipython3",
   "version": "3.8.6"
  }
 },
 "nbformat": 4,
 "nbformat_minor": 4
}
