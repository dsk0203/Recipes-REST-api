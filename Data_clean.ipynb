{
 "cells": [
  {
   "cell_type": "markdown",
   "metadata": {},
   "source": [
    "## Clean data for building api"
   ]
  },
  {
   "cell_type": "code",
   "execution_count": 4,
   "metadata": {},
   "outputs": [],
   "source": [
    "import pandas as pd\n",
    "import numpy as np\n",
    "import warnings\n",
    "warnings.filterwarnings('ignore')"
   ]
  },
  {
   "cell_type": "code",
   "execution_count": 5,
   "metadata": {},
   "outputs": [],
   "source": [
    "df = pd.read_csv(r\"C:\\Users\\dsk02\\Desktop\\python_projects\\nn_recipes\\recipes.csv\")\n",
    "before = df.copy()"
   ]
  },
  {
   "cell_type": "code",
   "execution_count": 6,
   "metadata": {},
   "outputs": [
    {
     "data": {
      "text/html": [
       "<div>\n",
       "<style scoped>\n",
       "    .dataframe tbody tr th:only-of-type {\n",
       "        vertical-align: middle;\n",
       "    }\n",
       "\n",
       "    .dataframe tbody tr th {\n",
       "        vertical-align: top;\n",
       "    }\n",
       "\n",
       "    .dataframe thead th {\n",
       "        text-align: right;\n",
       "    }\n",
       "</style>\n",
       "<table border=\"1\" class=\"dataframe\">\n",
       "  <thead>\n",
       "    <tr style=\"text-align: right;\">\n",
       "      <th></th>\n",
       "      <th>http://allrecipes.co.uk/recipe/2/pistachio-chicken-with-pomegranate-sauce.aspx</th>\n",
       "      <th>EGG MILK CHICKEN FILLET FLOUR NUT SHALLOT WHITE WINE STOCK CREAM BUTTER POMEGRANATE JUICE</th>\n",
       "    </tr>\n",
       "  </thead>\n",
       "  <tbody>\n",
       "    <tr>\n",
       "      <th>0</th>\n",
       "      <td>http://allrecipes.co.uk/recipe/3/pan-fried-chi...</td>\n",
       "      <td>FLOUR COCOA POWDER GROUND PEPPER CHICKEN FILLE...</td>\n",
       "    </tr>\n",
       "    <tr>\n",
       "      <th>1</th>\n",
       "      <td>http://allrecipes.co.uk/recipe/4/vegetable-sou...</td>\n",
       "      <td>GREEN PEPPER MEDIUM TOMATO ONION CARROT POTATO...</td>\n",
       "    </tr>\n",
       "    <tr>\n",
       "      <th>2</th>\n",
       "      <td>http://allrecipes.co.uk/recipe/5/cheesy-leek-a...</td>\n",
       "      <td>LEEK ONION MEDIUM POTATO CARROT BUTTER OLIVE O...</td>\n",
       "    </tr>\n",
       "    <tr>\n",
       "      <th>3</th>\n",
       "      <td>http://allrecipes.co.uk/recipe/6/goalkeeper-s-...</td>\n",
       "      <td>BUTTER STEAK CARROT SWEDE POTATO ONION BITTER ...</td>\n",
       "    </tr>\n",
       "    <tr>\n",
       "      <th>4</th>\n",
       "      <td>http://allrecipes.co.uk/recipe/7/christmas-sto...</td>\n",
       "      <td>ACTIVE YEAST MILK EGG SUGAR SALT BUTTER BREAD ...</td>\n",
       "    </tr>\n",
       "  </tbody>\n",
       "</table>\n",
       "</div>"
      ],
      "text/plain": [
       "  http://allrecipes.co.uk/recipe/2/pistachio-chicken-with-pomegranate-sauce.aspx  \\\n",
       "0  http://allrecipes.co.uk/recipe/3/pan-fried-chi...                               \n",
       "1  http://allrecipes.co.uk/recipe/4/vegetable-sou...                               \n",
       "2  http://allrecipes.co.uk/recipe/5/cheesy-leek-a...                               \n",
       "3  http://allrecipes.co.uk/recipe/6/goalkeeper-s-...                               \n",
       "4  http://allrecipes.co.uk/recipe/7/christmas-sto...                               \n",
       "\n",
       "  EGG MILK CHICKEN FILLET FLOUR NUT SHALLOT WHITE WINE STOCK CREAM BUTTER POMEGRANATE JUICE  \n",
       "0  FLOUR COCOA POWDER GROUND PEPPER CHICKEN FILLE...                                         \n",
       "1  GREEN PEPPER MEDIUM TOMATO ONION CARROT POTATO...                                         \n",
       "2  LEEK ONION MEDIUM POTATO CARROT BUTTER OLIVE O...                                         \n",
       "3  BUTTER STEAK CARROT SWEDE POTATO ONION BITTER ...                                         \n",
       "4  ACTIVE YEAST MILK EGG SUGAR SALT BUTTER BREAD ...                                         "
      ]
     },
     "execution_count": 6,
     "metadata": {},
     "output_type": "execute_result"
    }
   ],
   "source": [
    "df.head()\n",
    "# ugly output"
   ]
  },
  {
   "cell_type": "markdown",
   "metadata": {},
   "source": [
    "# to-do\n",
    "### 1 No headers\n",
    "### 2 Extract recipe name from website\n",
    "### 3 Extract ingreds"
   ]
  },
  {
   "cell_type": "code",
   "execution_count": 7,
   "metadata": {},
   "outputs": [],
   "source": [
    "# create some columns\n",
    "df.columns = ['Recipes','Ingreds']\n",
    "# drop nas\n",
    "df = df.dropna()"
   ]
  },
  {
   "cell_type": "code",
   "execution_count": 8,
   "metadata": {},
   "outputs": [],
   "source": [
    "# extract recipes into new column\n",
    "import re\n",
    "\n",
    "def recipe_extract(recipe_line):\n",
    "    \n",
    "    # break the line into three groups, extraxt the recipe from the title\n",
    "    line = str(recipe_line)\n",
    "    regexp_1 = re.compile(r'(http.*\\/recipe[s\\/]*)(.*\\d\\/)*(.*)(\\.aspx)*')\n",
    "    re_match = regexp_1.match(line)\n",
    "    \n",
    "    # if didn't find match return regex error, else return match\n",
    "    if not re_match:\n",
    "        return 'regex_error'\n",
    "    else:\n",
    "        return re_match.group(3)\n",
    "    "
   ]
  },
  {
   "cell_type": "code",
   "execution_count": 9,
   "metadata": {},
   "outputs": [],
   "source": [
    "df['recipe_extract'] = df.Recipes.apply(recipe_extract)"
   ]
  },
  {
   "cell_type": "code",
   "execution_count": 10,
   "metadata": {},
   "outputs": [],
   "source": [
    "def clean_regex(line):\n",
    "    \n",
    "    # if '.aspx' in the line, split and take the first half\n",
    "    if '.' in line:\n",
    "        arr = line.split('.')\n",
    "        txt = arr[0]\n",
    "    \n",
    "    # else just take the line and replace the -\n",
    "    else:\n",
    "        txt = line\n",
    "    \n",
    "    txt = txt.replace('-', ' ')\n",
    "    \n",
    "    # return the cleaned line\n",
    "    return txt\n",
    "    \n",
    "    "
   ]
  },
  {
   "cell_type": "code",
   "execution_count": 11,
   "metadata": {},
   "outputs": [],
   "source": [
    "df['recipes'] = df.recipe_extract.apply(clean_regex)"
   ]
  },
  {
   "cell_type": "code",
   "execution_count": 15,
   "metadata": {},
   "outputs": [],
   "source": [
    "def to_lower(string):\n",
    "    \n",
    "    # split on the spaces\n",
    "    arr = string.split(' ')\n",
    "    \n",
    "    # base word to add to\n",
    "    clean = ''\n",
    "    \n",
    "    # weird float values in there, just skip them\n",
    "    for each_word in arr:\n",
    "        if not type(each_word) == float:\n",
    "            clean += each_word.lower() + ','\n",
    "    \n",
    "    # return nice lower case comma format\n",
    "    return clean\n",
    "            "
   ]
  },
  {
   "cell_type": "code",
   "execution_count": 16,
   "metadata": {},
   "outputs": [],
   "source": [
    "df['clean_ingreds'] = df.Ingreds.apply(to_lower)"
   ]
  },
  {
   "cell_type": "code",
   "execution_count": 17,
   "metadata": {},
   "outputs": [
    {
     "data": {
      "text/html": [
       "<div>\n",
       "<style scoped>\n",
       "    .dataframe tbody tr th:only-of-type {\n",
       "        vertical-align: middle;\n",
       "    }\n",
       "\n",
       "    .dataframe tbody tr th {\n",
       "        vertical-align: top;\n",
       "    }\n",
       "\n",
       "    .dataframe thead th {\n",
       "        text-align: right;\n",
       "    }\n",
       "</style>\n",
       "<table border=\"1\" class=\"dataframe\">\n",
       "  <thead>\n",
       "    <tr style=\"text-align: right;\">\n",
       "      <th></th>\n",
       "      <th>Recipe</th>\n",
       "      <th>Ingredients</th>\n",
       "    </tr>\n",
       "  </thead>\n",
       "  <tbody>\n",
       "    <tr>\n",
       "      <th>0</th>\n",
       "      <td>pan fried chicken goujons</td>\n",
       "      <td>flour,cocoa,powder,ground,pepper,chicken,fille...</td>\n",
       "    </tr>\n",
       "    <tr>\n",
       "      <th>1</th>\n",
       "      <td>vegetable soup with couscous</td>\n",
       "      <td>green,pepper,medium,tomato,onion,carrot,potato...</td>\n",
       "    </tr>\n",
       "    <tr>\n",
       "      <th>2</th>\n",
       "      <td>cheesy leek and mustard soup</td>\n",
       "      <td>leek,onion,medium,potato,carrot,butter,olive,o...</td>\n",
       "    </tr>\n",
       "    <tr>\n",
       "      <th>3</th>\n",
       "      <td>goalkeeper s steak and ale pie</td>\n",
       "      <td>butter,steak,carrot,swede,potato,onion,bitter,...</td>\n",
       "    </tr>\n",
       "    <tr>\n",
       "      <th>4</th>\n",
       "      <td>christmas stollen</td>\n",
       "      <td>active,yeast,milk,egg,sugar,salt,butter,bread,...</td>\n",
       "    </tr>\n",
       "  </tbody>\n",
       "</table>\n",
       "</div>"
      ],
      "text/plain": [
       "                           Recipe  \\\n",
       "0       pan fried chicken goujons   \n",
       "1    vegetable soup with couscous   \n",
       "2    cheesy leek and mustard soup   \n",
       "3  goalkeeper s steak and ale pie   \n",
       "4               christmas stollen   \n",
       "\n",
       "                                         Ingredients  \n",
       "0  flour,cocoa,powder,ground,pepper,chicken,fille...  \n",
       "1  green,pepper,medium,tomato,onion,carrot,potato...  \n",
       "2  leek,onion,medium,potato,carrot,butter,olive,o...  \n",
       "3  butter,steak,carrot,swede,potato,onion,bitter,...  \n",
       "4  active,yeast,milk,egg,sugar,salt,butter,bread,...  "
      ]
     },
     "execution_count": 17,
     "metadata": {},
     "output_type": "execute_result"
    }
   ],
   "source": [
    "final = df.loc[:,['recipes','clean_ingreds']].copy()\n",
    "final.columns = ['Recipe','Ingredients']\n",
    "\n",
    "final.head()"
   ]
  },
  {
   "cell_type": "code",
   "execution_count": 18,
   "metadata": {},
   "outputs": [],
   "source": [
    "# read for backend work\n",
    "final.to_csv(r\"C:\\Users\\dsk02\\Desktop\\python_projects\\nn_recipes\\cleaned_data.csv\")"
   ]
  },
  {
   "cell_type": "code",
   "execution_count": null,
   "metadata": {},
   "outputs": [],
   "source": []
  }
 ],
 "metadata": {
  "kernelspec": {
   "display_name": "Python 3",
   "language": "python",
   "name": "python3"
  },
  "language_info": {
   "codemirror_mode": {
    "name": "ipython",
    "version": 3
   },
   "file_extension": ".py",
   "mimetype": "text/x-python",
   "name": "python",
   "nbconvert_exporter": "python",
   "pygments_lexer": "ipython3",
   "version": "3.8.6"
  }
 },
 "nbformat": 4,
 "nbformat_minor": 4
}
